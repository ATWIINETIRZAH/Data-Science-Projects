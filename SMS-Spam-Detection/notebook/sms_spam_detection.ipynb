{
 "cells": [
  {
   "cell_type": "markdown",
   "id": "3b7752b2",
   "metadata": {},
   "source": [
    "📩 SMS Spam Detection using Machine Learning\n",
    "\n",
    "Spam messages continue to flood our inboxes, posing not only a nuisance but also potential security risks such as phishing attacks and scams. In this project, we explore a data-driven approach to detect and classify SMS messages as spam or ham (non-spam) using machine learning techniques.\n",
    "\n",
    "We will be working with the SMS Spam Collection Dataset, which contains thousands of real-world text messages labeled as either spam or ham. The goal is to build a reliable classification model that can automatically identify spam messages based on the text content."
   ]
  },
  {
   "cell_type": "markdown",
   "id": "7869a421",
   "metadata": {},
   "source": [
    "We shall start by loading the dataset and exploring it"
   ]
  },
  {
   "cell_type": "code",
   "execution_count": null,
   "id": "50b2315a",
   "metadata": {},
   "outputs": [
    {
     "name": "stdout",
     "output_type": "stream",
     "text": [
      "     v1                                                 v2 Unnamed: 2  \\\n",
      "0   ham  Go until jurong point, crazy.. Available only ...        NaN   \n",
      "1   ham                      Ok lar... Joking wif u oni...        NaN   \n",
      "2  spam  Free entry in 2 a wkly comp to win FA Cup fina...        NaN   \n",
      "3   ham  U dun say so early hor... U c already then say...        NaN   \n",
      "4   ham  Nah I don't think he goes to usf, he lives aro...        NaN   \n",
      "\n",
      "  Unnamed: 3 Unnamed: 4  \n",
      "0        NaN        NaN  \n",
      "1        NaN        NaN  \n",
      "2        NaN        NaN  \n",
      "3        NaN        NaN  \n",
      "4        NaN        NaN  \n"
     ]
    }
   ],
   "source": [
    "import pandas as pd\n",
    "\n",
    "# Load the dataset and display the first 5 rows\n",
    "\n",
    "df = pd.read_csv(r'C:\\Users\\user\\Documents\\Data-Science-Projects\\SMS-Spam-Detection\\data\\spam.csv', encoding='latin-1')\n",
    "\n",
    "\n",
    "print(df.head())\n"
   ]
  },
  {
   "cell_type": "code",
   "execution_count": null,
   "id": "0ebef187",
   "metadata": {},
   "outputs": [],
   "source": []
  }
 ],
 "metadata": {
  "kernelspec": {
   "display_name": "Python 3",
   "language": "python",
   "name": "python3"
  },
  "language_info": {
   "codemirror_mode": {
    "name": "ipython",
    "version": 3
   },
   "file_extension": ".py",
   "mimetype": "text/x-python",
   "name": "python",
   "nbconvert_exporter": "python",
   "pygments_lexer": "ipython3",
   "version": "3.10.11"
  }
 },
 "nbformat": 4,
 "nbformat_minor": 5
}
